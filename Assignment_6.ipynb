{
 "cells": [
  {
   "cell_type": "markdown",
   "id": "876aa04d",
   "metadata": {},
   "source": [
    "### 1.\tWrite a Python Program to Display Fibonacci Sequence Using Recursion?"
   ]
  },
  {
   "cell_type": "code",
   "execution_count": 2,
   "id": "4ebcb5bd",
   "metadata": {},
   "outputs": [
    {
     "name": "stdout",
     "output_type": "stream",
     "text": [
      "Enter how many numbers of fibonacci u want to show4\n",
      "0\n",
      "1\n",
      "1\n",
      "2\n"
     ]
    }
   ],
   "source": [
    "def fib(n):\n",
    "    if n <= 1:\n",
    "        return n\n",
    "    else:\n",
    "        return(fib(n-1) + fib(n-2))\n",
    "num = int(input(\"Enter how many numbers of fibonacci u want to show\"))\n",
    "if num > 1:\n",
    "    for i in range(num):\n",
    "        print(fib(i))"
   ]
  },
  {
   "cell_type": "markdown",
   "id": "15d72331",
   "metadata": {},
   "source": [
    "### 2.\tWrite a Python Program to Find Factorial of Number Using Recursion?"
   ]
  },
  {
   "cell_type": "code",
   "execution_count": 4,
   "id": "ff5cf7a4",
   "metadata": {},
   "outputs": [
    {
     "name": "stdout",
     "output_type": "stream",
     "text": [
      "Enter a number: 3\n",
      "The factorial of 3 is 6\n"
     ]
    }
   ],
   "source": [
    "def fact(n):\n",
    "    if n == 1:\n",
    "        return n\n",
    "    else:\n",
    "        return (n * fact(n-1))\n",
    "num = int(input(\"Enter a number: \"))\n",
    "if num < 0:\n",
    "    print(\"positive number\")\n",
    "else:\n",
    "    result = fact(num)\n",
    "print(\"The factorial of {} is {}\".format(num, result))"
   ]
  },
  {
   "cell_type": "markdown",
   "id": "bd3fda43",
   "metadata": {},
   "source": [
    "### 3.\tWrite a Python Program to calculate your Body Mass Index?"
   ]
  },
  {
   "cell_type": "code",
   "execution_count": 10,
   "id": "6da97422",
   "metadata": {},
   "outputs": [
    {
     "name": "stdout",
     "output_type": "stream",
     "text": [
      "Enter the height in feet: 5.7\n",
      "Enter the weight in kilos: 62\n",
      "The Body Mass Index for height 5.7 and weight 62.0 is 1.91\n"
     ]
    }
   ],
   "source": [
    "### # BMI = weight / height ** 2\n",
    "\n",
    "h = float(input(\"Enter the height in feet: \"))\n",
    "w = float(input(\"Enter the weight in kilos: \"))\n",
    "\n",
    "bmi = w / (h **2)\n",
    "\n",
    "print(\"The Body Mass Index for height {} and weight {} is {:0.2f}\".format(h,w,bmi))\n"
   ]
  },
  {
   "cell_type": "markdown",
   "id": "6bece1f8",
   "metadata": {},
   "source": [
    "### 4.\tWrite a Python Program to calculate the natural logarithm of any number?"
   ]
  },
  {
   "cell_type": "code",
   "execution_count": 12,
   "id": "efb40808",
   "metadata": {},
   "outputs": [
    {
     "name": "stdout",
     "output_type": "stream",
     "text": [
      "Enter a number: 5\n",
      "The natural log of 5 is 1.6094379124341003\n"
     ]
    }
   ],
   "source": [
    "import math\n",
    "\n",
    "num = int(input(\"Enter a number: \"))\n",
    "\n",
    "log = math.log(num)\n",
    "print(\"The natural log of {} is {}\".format(num,log))"
   ]
  },
  {
   "cell_type": "markdown",
   "id": "f19bd1d9",
   "metadata": {},
   "source": [
    "### 5.\tWrite a Python Program for cube sum of first n natural numbers?"
   ]
  },
  {
   "cell_type": "code",
   "execution_count": 16,
   "id": "1e3c7d35",
   "metadata": {},
   "outputs": [
    {
     "name": "stdout",
     "output_type": "stream",
     "text": [
      "Enter a number for doing a cube upto that number: 4\n",
      "cube sum of 4 natural numbers is 100\n"
     ]
    }
   ],
   "source": [
    "num = int(input(\"Enter a number for doing a cube upto that number: \"))\n",
    "sum = 0\n",
    "\n",
    "for i in range(1, num + 1):\n",
    "    sum = sum + i ** 3\n",
    "print(\"cube sum of {} natural numbers is {}\".format(num, sum))"
   ]
  },
  {
   "cell_type": "code",
   "execution_count": null,
   "id": "049e355a",
   "metadata": {},
   "outputs": [],
   "source": []
  }
 ],
 "metadata": {
  "kernelspec": {
   "display_name": "Python 3 (ipykernel)",
   "language": "python",
   "name": "python3"
  },
  "language_info": {
   "codemirror_mode": {
    "name": "ipython",
    "version": 3
   },
   "file_extension": ".py",
   "mimetype": "text/x-python",
   "name": "python",
   "nbconvert_exporter": "python",
   "pygments_lexer": "ipython3",
   "version": "3.9.7"
  }
 },
 "nbformat": 4,
 "nbformat_minor": 5
}
