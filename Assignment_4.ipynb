{
 "cells": [
  {
   "cell_type": "markdown",
   "id": "7f26e712",
   "metadata": {},
   "source": [
    "### 1.\tWrite a Python Program to Find the Factorial of a Number?"
   ]
  },
  {
   "cell_type": "code",
   "execution_count": 3,
   "id": "8a62bcd4",
   "metadata": {},
   "outputs": [
    {
     "name": "stdout",
     "output_type": "stream",
     "text": [
      "Enter a number: 23\n",
      "The factorial of 23 is 25852016738884976640000"
     ]
    }
   ],
   "source": [
    "num = int(input(\"Enter a number: \"))\n",
    "fact = 1\n",
    "for i in range(1, num + 1):\n",
    "    fact = fact * i\n",
    "print(\"The factorial of\", num, \"is\", fact, end = \"\")"
   ]
  },
  {
   "cell_type": "markdown",
   "id": "c48aae79",
   "metadata": {},
   "source": [
    "### 2.\tWrite a Python Program to Display the multiplication Table?"
   ]
  },
  {
   "cell_type": "code",
   "execution_count": 13,
   "id": "d73c6981",
   "metadata": {},
   "outputs": [
    {
     "name": "stdout",
     "output_type": "stream",
     "text": [
      "Enter a number: 2\n",
      "2 x 1 = 2\n",
      "2 x 2 = 4\n",
      "2 x 3 = 6\n",
      "2 x 4 = 8\n",
      "2 x 5 = 10\n",
      "2 x 6 = 12\n",
      "2 x 7 = 14\n",
      "2 x 8 = 16\n",
      "2 x 9 = 18\n",
      "2 x 10 = 20\n"
     ]
    }
   ],
   "source": [
    "num = int(input(\"Enter a number: \"))\n",
    "for i in range(1, 11):\n",
    "        print(num, \"x\", i, \"=\", num * i) "
   ]
  },
  {
   "cell_type": "markdown",
   "id": "8eb10d9a",
   "metadata": {},
   "source": [
    "### 3.\tWrite a Python Program to Print the Fibonacci sequence?"
   ]
  },
  {
   "cell_type": "code",
   "execution_count": 15,
   "id": "6a8f4e74",
   "metadata": {},
   "outputs": [
    {
     "name": "stdout",
     "output_type": "stream",
     "text": [
      "How many numbers of fibonacci you want to print: 7\n",
      "Fibonacci Sequence: \n",
      "0\n",
      "1\n",
      "1\n",
      "2\n",
      "3\n",
      "5\n",
      "8\n"
     ]
    }
   ],
   "source": [
    "num = int(input(\"How many numbers of fibonacci you want to print: \"))\n",
    "\n",
    "n1 = 0\n",
    "n2 = 1\n",
    "count = 0\n",
    "\n",
    "# check if the number entered is valid or not\n",
    "if num <= 0:\n",
    "    print(\"Enter a positive number\")\n",
    "elif num == 1:\n",
    "    print(\"fibonacci sequence upto\",num, \"term is\", n1)\n",
    "else:\n",
    "    print(\"Fibonacci Sequence: \")\n",
    "    while count < num:\n",
    "        print(n1)\n",
    "        nth = n1 + n2\n",
    "        #updating the values\n",
    "        n1 = n2\n",
    "        n2 = nth\n",
    "        count = count + 1\n"
   ]
  },
  {
   "cell_type": "markdown",
   "id": "03c5861f",
   "metadata": {},
   "source": [
    "### 4.\tWrite a Python Program to Check Armstrong Number?"
   ]
  },
  {
   "cell_type": "code",
   "execution_count": 25,
   "id": "e7ee99ae",
   "metadata": {},
   "outputs": [
    {
     "name": "stdout",
     "output_type": "stream",
     "text": [
      "Enter a number: 663\n",
      "The entered number 663 is not an armstrong number\n"
     ]
    }
   ],
   "source": [
    "num = int(input(\"Enter a number: \"))\n",
    "\n",
    "sum = 0\n",
    "temp = num\n",
    "power = len(str(num))\n",
    "while temp > 0:\n",
    "    digit = temp % 10\n",
    "    sum = sum + digit ** power\n",
    "    temp = temp // 10\n",
    "    \n",
    "if num == sum:\n",
    "    print(\"The entered number\", num, \"is an armstrong number\")\n",
    "else:\n",
    "    print(\"The entered number\", num, \"is not an armstrong number\")\n",
    "        "
   ]
  },
  {
   "cell_type": "markdown",
   "id": "028ec4a8",
   "metadata": {},
   "source": [
    "### 5.\tWrite a Python Program to Find Armstrong Number in an Interval?"
   ]
  },
  {
   "cell_type": "code",
   "execution_count": 24,
   "id": "3b305580",
   "metadata": {},
   "outputs": [
    {
     "name": "stdout",
     "output_type": "stream",
     "text": [
      "Enter the lower number: 100\n",
      "Enter the upper number: 2000\n",
      "153\n",
      "370\n",
      "371\n",
      "407\n",
      "1634\n"
     ]
    }
   ],
   "source": [
    "x = int(input(\"Enter the lower number: \"))\n",
    "y = int(input(\"Enter the upper number: \"))\n",
    "\n",
    "for i in range(x, y + 1):\n",
    "    temp = i\n",
    "    sum = 0\n",
    "    power = len(str(i))\n",
    "    while temp > 0:\n",
    "        digit = temp % 10\n",
    "        sum = sum + digit ** power\n",
    "        temp = temp // 10\n",
    "    \n",
    "    if i == sum:\n",
    "        print(i)"
   ]
  },
  {
   "cell_type": "markdown",
   "id": "51134e51",
   "metadata": {},
   "source": [
    "### 6.\tWrite a Python Program to Find the Sum of Natural Numbers?"
   ]
  },
  {
   "cell_type": "code",
   "execution_count": 27,
   "id": "e6da41f1",
   "metadata": {},
   "outputs": [
    {
     "name": "stdout",
     "output_type": "stream",
     "text": [
      "Enter a number: 4\n",
      "The sum of natural numbers upto 4 is 10\n"
     ]
    }
   ],
   "source": [
    "num = int(input(\"Enter a number: \"))\n",
    "sum = 0\n",
    "for i in range(0, num + 1):\n",
    "    sum = sum  + i\n",
    "print(\"The sum of natural numbers upto {} is {}\".format(num, sum))"
   ]
  },
  {
   "cell_type": "code",
   "execution_count": null,
   "id": "8c168565",
   "metadata": {},
   "outputs": [],
   "source": []
  }
 ],
 "metadata": {
  "kernelspec": {
   "display_name": "Python 3 (ipykernel)",
   "language": "python",
   "name": "python3"
  },
  "language_info": {
   "codemirror_mode": {
    "name": "ipython",
    "version": 3
   },
   "file_extension": ".py",
   "mimetype": "text/x-python",
   "name": "python",
   "nbconvert_exporter": "python",
   "pygments_lexer": "ipython3",
   "version": "3.9.7"
  }
 },
 "nbformat": 4,
 "nbformat_minor": 5
}
