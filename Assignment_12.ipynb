{
 "cells": [
  {
   "cell_type": "markdown",
   "id": "75c8cf7b",
   "metadata": {},
   "source": [
    "### 1.\tWrite a Python program to Extract Unique values dictionary values?"
   ]
  },
  {
   "cell_type": "code",
   "execution_count": 1,
   "id": "a1421bcd",
   "metadata": {},
   "outputs": [
    {
     "name": "stdout",
     "output_type": "stream",
     "text": [
      "Unique values are {1, 2, 3, 4, 5, 6, 7, 8, 9}\n"
     ]
    }
   ],
   "source": [
    "dict1 = {\"a\" : [1,3,3,2,5,8],\n",
    "         \"b\" : [2,3,4,5,8,9],\n",
    "         \"c\" : [2,2,5,6,4,2],\n",
    "         \"d\" : [5,6,7,8,4,2]\n",
    "}\n",
    "unique = set([ele for val in dict1.values() for ele in val])\n",
    "print(\"Unique values are {}\".format(unique))"
   ]
  },
  {
   "cell_type": "markdown",
   "id": "5f7607aa",
   "metadata": {},
   "source": [
    "### 2.\tWrite a Python program to find the sum of all items in a dictionary?"
   ]
  },
  {
   "cell_type": "code",
   "execution_count": 2,
   "id": "4bdb9340",
   "metadata": {},
   "outputs": [
    {
     "name": "stdout",
     "output_type": "stream",
     "text": [
      "sum of the items is 14\n"
     ]
    }
   ],
   "source": [
    "dict2 = {\"a\" : 2,\n",
    "         \"b\" : 3,\n",
    "         \"c\" : 4,\n",
    "         \"d\" : 5\n",
    "    \n",
    "}\n",
    "sum = 0\n",
    "for i in dict2.values():\n",
    "    sum = sum + i\n",
    "print(\"sum of the items is {}\".format(sum))"
   ]
  },
  {
   "cell_type": "markdown",
   "id": "a3ee9321",
   "metadata": {},
   "source": [
    "### 3.\tWrite a Python program to Merging two Dictionaries?"
   ]
  },
  {
   "cell_type": "code",
   "execution_count": 3,
   "id": "28f7782f",
   "metadata": {},
   "outputs": [
    {
     "name": "stdout",
     "output_type": "stream",
     "text": [
      "first dictionary:  {'a': 2, 'b': 5}\n",
      "second dictionary:  {'b': 6, 'd': 7}\n",
      "The merged dictionary is:  {'a': 2, 'b': 6, 'd': 7}\n"
     ]
    }
   ],
   "source": [
    "first_dict = {\"a\" : 2, \"b\" : 5}\n",
    "second_dict = {\"b\" : 6, \"d\" : 7}\n",
    "combined_dictionary = first_dict.copy()\n",
    "combined_dictionary.update(second_dict)\n",
    "print(\"first dictionary: \", first_dict)\n",
    "print(\"second dictionary: \", second_dict)\n",
    "print(\"The merged dictionary is: \", combined_dictionary)"
   ]
  },
  {
   "cell_type": "markdown",
   "id": "9ce188e1",
   "metadata": {},
   "source": [
    "### 4.\tWrite a Python program to convert key-values list to flat dictionary?"
   ]
  },
  {
   "cell_type": "code",
   "execution_count": 5,
   "id": "8ad0c080",
   "metadata": {},
   "outputs": [
    {
     "name": "stdout",
     "output_type": "stream",
     "text": [
      "The original dictionary is:  {'name': ['jan', 'feb', 'march'], 'month': [1, 2, 3]}\n",
      "The flat dictionary is:  {'jan': 1, 'feb': 2, 'march': 3}\n"
     ]
    }
   ],
   "source": [
    "dict3 = {\"name\" : [\"jan\", \"feb\", \"march\"],\n",
    "         \"month\" : [1,2,3]\n",
    "}\n",
    "print(\"The original dictionary is: \", dict3)\n",
    "\n",
    "# converting key-values list to flat dictionary\n",
    "\n",
    "flat_dict = dict(zip(dict3[\"name\"],dict3[\"month\"]))\n",
    "\n",
    "print(\"The flat dictionary is: \", flat_dict)"
   ]
  },
  {
   "cell_type": "markdown",
   "id": "3cac3ea9",
   "metadata": {},
   "source": [
    "### 5.\tWrite a Python program to insertion at the beginning in OrderedDict?"
   ]
  },
  {
   "cell_type": "code",
   "execution_count": 8,
   "id": "3da8f6fa",
   "metadata": {},
   "outputs": [
    {
     "name": "stdout",
     "output_type": "stream",
     "text": [
      "The final dictionary is:  OrderedDict([('Jan', 1), ('Feb', 2), ('March', 3)])\n"
     ]
    }
   ],
   "source": [
    "from collections import OrderedDict\n",
    "\n",
    "inordered_dict = OrderedDict([(\"Feb\", 2), (\"March\", 3)])\n",
    "\n",
    "# insert at the begining \n",
    "inordered_dict.update({\"Jan\" : 1})\n",
    "inordered_dict.move_to_end(\"Jan\", last = False)\n",
    "\n",
    "print(\"The final dictionary is: \", inordered_dict)"
   ]
  },
  {
   "cell_type": "markdown",
   "id": "73c4fd13",
   "metadata": {},
   "source": [
    "### 6.\tWrite a Python program to check order of character in string using OrderedDict()?"
   ]
  },
  {
   "cell_type": "code",
   "execution_count": 9,
   "id": "805f86c5",
   "metadata": {},
   "outputs": [
    {
     "name": "stdout",
     "output_type": "stream",
     "text": [
      "enter string : Rohit\n",
      "Enter Pattern : hi\n",
      "OrderedDict([('R', None), ('o', None), ('h', None), ('i', None), ('t', None)])\n",
      "Pattern matched\n"
     ]
    }
   ],
   "source": [
    "from collections import OrderedDict \n",
    "  \n",
    "def checkOrderofString(str, pattern): \n",
    "      \n",
    "    # create empty OrderedDict \n",
    "    dict = OrderedDict.fromkeys(str) \n",
    "    print(dict)   \n",
    "    ptrlen = 0\n",
    "    for key,value in dict.items(): \n",
    "        \n",
    "        if (key == pattern[ptrlen]): \n",
    "            ptrlen = ptrlen + 1\n",
    "          \n",
    "        # check if we have traverse complete pattern string \n",
    "        if (ptrlen == (len(pattern))):            \n",
    "            return 'true'\n",
    "  \n",
    "    # if we come out from for loop that means order was mismatched \n",
    "    return 'false'\n",
    "  \n",
    "\n",
    "string = input(\"enter string : \")\n",
    "pattern = input(\"Enter Pattern : \")\n",
    "if checkOrderofString(string,pattern):\n",
    "    print(\"Pattern matched\")\n",
    "else:\n",
    "    print(\"Pattern not matched\")"
   ]
  },
  {
   "cell_type": "markdown",
   "id": "05a86350",
   "metadata": {},
   "source": [
    "### 7.\tWrite a Python program to sort Python Dictionaries by Key or Value?"
   ]
  },
  {
   "cell_type": "code",
   "execution_count": 10,
   "id": "36b840d0",
   "metadata": {},
   "outputs": [
    {
     "name": "stdout",
     "output_type": "stream",
     "text": [
      "[4, 6, 7, 9]\n",
      "[(4, 2), (6, 9), (7, 8), (9, 5)]\n"
     ]
    }
   ],
   "source": [
    "dict= {4:5 ,7:8 ,4:3 ,6:9 ,9:5 ,4:2 }\n",
    "#Print sorted list of keys\n",
    "print(sorted(dict.keys()))\n",
    "#Print sorted list of items\n",
    "print(sorted(dict.items()))"
   ]
  },
  {
   "cell_type": "code",
   "execution_count": 11,
   "id": "c1c0b828",
   "metadata": {},
   "outputs": [
    {
     "name": "stdout",
     "output_type": "stream",
     "text": [
      "[2, 5, 8, 9]\n"
     ]
    }
   ],
   "source": [
    "dic2 = {4:5 ,7:8 ,4:3 ,6:9 ,9:5 ,4:2 }\n",
    "print(sorted(dic2.values()))\n",
    "#Print sorted list of values"
   ]
  },
  {
   "cell_type": "code",
   "execution_count": null,
   "id": "57b0c686",
   "metadata": {},
   "outputs": [],
   "source": []
  }
 ],
 "metadata": {
  "kernelspec": {
   "display_name": "Python 3 (ipykernel)",
   "language": "python",
   "name": "python3"
  },
  "language_info": {
   "codemirror_mode": {
    "name": "ipython",
    "version": 3
   },
   "file_extension": ".py",
   "mimetype": "text/x-python",
   "name": "python",
   "nbconvert_exporter": "python",
   "pygments_lexer": "ipython3",
   "version": "3.9.7"
  }
 },
 "nbformat": 4,
 "nbformat_minor": 5
}
