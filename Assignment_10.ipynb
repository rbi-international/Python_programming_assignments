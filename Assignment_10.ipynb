{
 "cells": [
  {
   "cell_type": "markdown",
   "id": "c5b9d35b",
   "metadata": {},
   "source": [
    "### 1.\tWrite a Python program to find sum of elements in list?"
   ]
  },
  {
   "cell_type": "code",
   "execution_count": 2,
   "id": "77e6469c",
   "metadata": {},
   "outputs": [
    {
     "name": "stdout",
     "output_type": "stream",
     "text": [
      "How many elements u want to enter: 5\n",
      "1\n",
      "2\n",
      "3\n",
      "4\n",
      "5\n",
      "The list is:  [1, 2, 3, 4, 5]\n",
      "The sum of the elements is:  15\n"
     ]
    }
   ],
   "source": [
    "num = int(input(\"How many elements u want to enter: \"))\n",
    "lst = []\n",
    "\n",
    "for i in range(num):\n",
    "    lst.append(int(input()))\n",
    "print(\"The list is: \", lst)\n",
    "print(\"The sum of the elements is: \", sum(lst))"
   ]
  },
  {
   "cell_type": "markdown",
   "id": "f1a3181b",
   "metadata": {},
   "source": [
    "### 2.\tWrite a Python program to  Multiply all numbers in the list?"
   ]
  },
  {
   "cell_type": "code",
   "execution_count": 7,
   "id": "a3f72a4a",
   "metadata": {},
   "outputs": [
    {
     "name": "stdout",
     "output_type": "stream",
     "text": [
      "How many elements u want to enter: 5\n",
      "1\n",
      "2\n",
      "3\n",
      "4\n",
      "5\n",
      "The list is:  [1, 2, 3, 4, 5]\n",
      "The Multiplication of the elements is:  120\n"
     ]
    }
   ],
   "source": [
    "num = int(input(\"How many elements u want to enter: \"))\n",
    "lst = []\n",
    "\n",
    "for i in range(num):\n",
    "    lst.append(int(input()))\n",
    "print(\"The list is: \", lst)\n",
    "product = 1\n",
    "for i in lst:\n",
    "    product = product * i\n",
    "print(\"The Multiplication of the elements is: \", product)"
   ]
  },
  {
   "cell_type": "markdown",
   "id": "ee439592",
   "metadata": {},
   "source": [
    "### 3.\tWrite a Python program to find smallest number in a list?"
   ]
  },
  {
   "cell_type": "code",
   "execution_count": 8,
   "id": "05aeec07",
   "metadata": {},
   "outputs": [
    {
     "name": "stdout",
     "output_type": "stream",
     "text": [
      "How many elements u want in the list: 5\n",
      "1\n",
      "2\n",
      "3\n",
      "4\n",
      "5\n",
      "The list is:  [1, 2, 3, 4, 5]\n",
      "The smallest number in the list is:  1\n"
     ]
    }
   ],
   "source": [
    "n = int(input(\"How many elements u want in the list: \"))\n",
    "list1 = []\n",
    "for i in range(n):\n",
    "    list1.append(int(input()))\n",
    "print(\"The list is: \", list1)\n",
    "print(\"The smallest number in the list is: \", min(list1))"
   ]
  },
  {
   "cell_type": "markdown",
   "id": "8fdca305",
   "metadata": {},
   "source": [
    "### 4.\tWrite a Python program to find largest number in a list?"
   ]
  },
  {
   "cell_type": "code",
   "execution_count": 10,
   "id": "1c5584c6",
   "metadata": {},
   "outputs": [
    {
     "name": "stdout",
     "output_type": "stream",
     "text": [
      "How many elements u want in the list: 5\n",
      "1\n",
      "2\n",
      "3\n",
      "4\n",
      "5\n",
      "The list is:  [1, 2, 3, 4, 5]\n",
      "The largest number in the list is:  5\n"
     ]
    }
   ],
   "source": [
    "n = int(input(\"How many elements u want in the list: \"))\n",
    "list1 = []\n",
    "for i in range(n):\n",
    "    list1.append(int(input()))\n",
    "print(\"The list is: \", list1)\n",
    "print(\"The largest number in the list is: \", max(list1))"
   ]
  },
  {
   "cell_type": "markdown",
   "id": "1fb76840",
   "metadata": {},
   "source": [
    "### 5.\tWrite a Python program to find second largest number in a list?"
   ]
  },
  {
   "cell_type": "code",
   "execution_count": 13,
   "id": "3ffd5e55",
   "metadata": {},
   "outputs": [
    {
     "name": "stdout",
     "output_type": "stream",
     "text": [
      "How many elements u want in the list: 5\n",
      "3\n",
      "5\n",
      "9\n",
      "6\n",
      "1\n",
      "The list is:  [3, 5, 9, 6, 1]\n",
      "The sorted list is:  [1, 3, 5, 6, 9]\n",
      "The largest number in the list is:  6\n"
     ]
    }
   ],
   "source": [
    "n = int(input(\"How many elements u want in the list: \"))\n",
    "list1 = []\n",
    "for i in range(n):\n",
    "    list1.append(int(input()))\n",
    "print(\"The list is: \", list1)\n",
    "list1.sort()\n",
    "print(\"The sorted list is: \", list1)\n",
    "print(\"The largest number in the list is: \", list1[-2])"
   ]
  },
  {
   "cell_type": "markdown",
   "id": "3ef276d5",
   "metadata": {},
   "source": [
    "### 6.\tWrite a Python program to find N largest elements from a list?"
   ]
  },
  {
   "cell_type": "code",
   "execution_count": 17,
   "id": "3fb9080c",
   "metadata": {},
   "outputs": [
    {
     "name": "stdout",
     "output_type": "stream",
     "text": [
      "How many elements u want in the list: 5\n",
      "1\n",
      "9\n",
      "2\n",
      "8\n",
      "5\n",
      "The list is:  [1, 9, 2, 8, 5]\n",
      "The sorted list is:  [1, 2, 5, 8, 9]\n",
      "How many largest numbers u want from the list: 3\n",
      "3 Largest elements are:  [5, 8, 9]\n"
     ]
    }
   ],
   "source": [
    "n = int(input(\"How many elements u want in the list: \"))\n",
    "list1 = []\n",
    "for i in range(n):\n",
    "    list1.append(int(input()))\n",
    "print(\"The list is: \", list1)\n",
    "list1.sort()\n",
    "print(\"The sorted list is: \", list1)\n",
    "N = int(input(\"How many largest numbers u want from the list: \"))\n",
    "if n < N:\n",
    "    print(\"Entered value is larger than the list itself\")\n",
    "else:\n",
    "    print(N, \"Largest elements are: \", list1[(n-N):])\n",
    "        "
   ]
  },
  {
   "cell_type": "markdown",
   "id": "f8afe235",
   "metadata": {},
   "source": [
    "### 7.\tWrite a Python program to print even numbers in a list?"
   ]
  },
  {
   "cell_type": "code",
   "execution_count": 18,
   "id": "a45643d5",
   "metadata": {},
   "outputs": [
    {
     "name": "stdout",
     "output_type": "stream",
     "text": [
      "How many elements u want in the list: 9\n",
      "1\n",
      "2\n",
      "3\n",
      "4\n",
      "5\n",
      "6\n",
      "7\n",
      "8\n",
      "9\n",
      "The list is:  [1, 2, 3, 4, 5, 6, 7, 8, 9]\n",
      "The even numbers in the list are:  [2, 4, 6, 8]\n"
     ]
    }
   ],
   "source": [
    "n = int(input(\"How many elements u want in the list: \"))\n",
    "list1 = []\n",
    "for i in range(n):\n",
    "    list1.append(int(input()))\n",
    "print(\"The list is: \", list1)\n",
    "even_no = [i for i in list1 if i % 2 == 0]\n",
    "print(\"The even numbers in the list are: \", even_no)"
   ]
  },
  {
   "cell_type": "markdown",
   "id": "f097c2ef",
   "metadata": {},
   "source": [
    "### 8.\tWrite a Python program to print odd numbers in a List?"
   ]
  },
  {
   "cell_type": "code",
   "execution_count": 20,
   "id": "ba2b00e1",
   "metadata": {},
   "outputs": [
    {
     "name": "stdout",
     "output_type": "stream",
     "text": [
      "How many elements u want in the list: 9\n",
      "1\n",
      "2\n",
      "3\n",
      "4\n",
      "5\n",
      "6\n",
      "7\n",
      "8\n",
      "9\n",
      "The list is:  [1, 2, 3, 4, 5, 6, 7, 8, 9]\n",
      "The odd numbers in the list are:  [1, 3, 5, 7, 9]\n"
     ]
    }
   ],
   "source": [
    "n = int(input(\"How many elements u want in the list: \"))\n",
    "list1 = []\n",
    "for i in range(n):\n",
    "    list1.append(int(input()))\n",
    "print(\"The list is: \", list1)\n",
    "odd_no = [i for i in list1 if i % 2 != 0]\n",
    "print(\"The odd numbers in the list are: \", odd_no)"
   ]
  },
  {
   "cell_type": "markdown",
   "id": "d84dbe39",
   "metadata": {},
   "source": [
    "### 9.\tWrite a Python program to Remove empty List from List?"
   ]
  },
  {
   "cell_type": "code",
   "execution_count": 21,
   "id": "68c76384",
   "metadata": {},
   "outputs": [
    {
     "name": "stdout",
     "output_type": "stream",
     "text": [
      "The List : [55, [], 14, 75, [], 96, 80, [], 36]\n",
      "The list after removing empty lists : [55, 14, 75, 96, 80, 36]\n"
     ]
    }
   ],
   "source": [
    "lst = [55,[],14,75,[],96,80,[],36]\n",
    "print(\"The List :\",lst)\n",
    "new_list = [item for item in lst if item != []]\n",
    "print(\"The list after removing empty lists :\" , new_list)"
   ]
  },
  {
   "cell_type": "markdown",
   "id": "f5dda77a",
   "metadata": {},
   "source": [
    "### 10.\tWrite a Python program to Cloning or Copying a list?"
   ]
  },
  {
   "cell_type": "code",
   "execution_count": 22,
   "id": "8844918f",
   "metadata": {},
   "outputs": [
    {
     "name": "stdout",
     "output_type": "stream",
     "text": [
      "How many elements u want in the list: 5\n",
      "1\n",
      "2\n",
      "3\n",
      "4\n",
      "5\n",
      "The original list is:  [1, 2, 3, 4, 5]\n",
      "The copied list is:  [1, 2, 3, 4, 5]\n"
     ]
    }
   ],
   "source": [
    "n = int(input(\"How many elements u want in the list: \"))\n",
    "list1 = []\n",
    "for i in range(n):\n",
    "    list1.append(int(input()))\n",
    "print(\"The original list is: \", list1)\n",
    "list2 = list1.copy()\n",
    "print(\"The copied list is: \", list2)"
   ]
  },
  {
   "cell_type": "markdown",
   "id": "6aa7a45b",
   "metadata": {},
   "source": [
    "### 11.\tWrite a Python program to Count occurrences of an element in a list?"
   ]
  },
  {
   "cell_type": "code",
   "execution_count": 23,
   "id": "338ef34f",
   "metadata": {},
   "outputs": [
    {
     "name": "stdout",
     "output_type": "stream",
     "text": [
      "Enter the lenth of your list : 5\n",
      "1\n",
      "3\n",
      "3\n",
      "2\n",
      "7\n",
      "The List is  [1, 3, 3, 2, 7]\n",
      "Enter the element to find its occurance : 3\n",
      "3 has occured 2 times in the list \n"
     ]
    }
   ],
   "source": [
    "n = int(input(\"Enter the lenth of your list : \"))\n",
    "lst = []\n",
    "\n",
    "for i in range(n):\n",
    "    lst.append(int(input()))\n",
    "print(\"The List is \",lst)\n",
    "element = int(input(\"Enter the element to find its occurance : \"))\n",
    "print(element,\"has occured {} times in the list \".format(lst.count(element)))"
   ]
  },
  {
   "cell_type": "code",
   "execution_count": null,
   "id": "c6d6e8ef",
   "metadata": {},
   "outputs": [],
   "source": []
  }
 ],
 "metadata": {
  "kernelspec": {
   "display_name": "Python 3 (ipykernel)",
   "language": "python",
   "name": "python3"
  },
  "language_info": {
   "codemirror_mode": {
    "name": "ipython",
    "version": 3
   },
   "file_extension": ".py",
   "mimetype": "text/x-python",
   "name": "python",
   "nbconvert_exporter": "python",
   "pygments_lexer": "ipython3",
   "version": "3.9.7"
  }
 },
 "nbformat": 4,
 "nbformat_minor": 5
}
