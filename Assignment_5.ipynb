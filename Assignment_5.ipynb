{
 "cells": [
  {
   "cell_type": "markdown",
   "id": "e72b83e7",
   "metadata": {},
   "source": [
    "### 1.\tWrite a Python Program to Find LCM?"
   ]
  },
  {
   "cell_type": "code",
   "execution_count": 1,
   "id": "d5efc6bb",
   "metadata": {},
   "outputs": [
    {
     "name": "stdout",
     "output_type": "stream",
     "text": [
      "Enter the first number: 54\n",
      "Enter the second number: 24\n",
      "LCM of 54 and 24 is 216\n"
     ]
    }
   ],
   "source": [
    "x = int(input(\"Enter the first number: \"))\n",
    "y = int(input(\"Enter the second number: \"))\n",
    "\n",
    "if x > y:\n",
    "    big = x\n",
    "else:\n",
    "    big = y\n",
    "    \n",
    "while(True):\n",
    "    if ((big % x == 0) and (big % y == 0)):\n",
    "        lcm = big\n",
    "        break\n",
    "    big = big + 1\n",
    "print(\"LCM of {} and {} is {}\".format(x, y, lcm))"
   ]
  },
  {
   "cell_type": "markdown",
   "id": "979f0562",
   "metadata": {},
   "source": [
    "### 2.\tWrite a Python Program to Find HCF?"
   ]
  },
  {
   "cell_type": "code",
   "execution_count": 3,
   "id": "6798b086",
   "metadata": {},
   "outputs": [
    {
     "name": "stdout",
     "output_type": "stream",
     "text": [
      "Enter the first number: 4\n",
      "Enter the second number: 5\n",
      "The HCF of 4 and 5 is 1\n"
     ]
    }
   ],
   "source": [
    "x = int(input(\"Enter the first number: \"))\n",
    "y = int(input(\"Enter the second number: \"))\n",
    "\n",
    "if x < y:\n",
    "    small = x\n",
    "else:\n",
    "    small = y\n",
    "    \n",
    "hcf = 0\n",
    "for i in range(1, small + 1):\n",
    "    if ((x % i == 0) and (y % i == 0)):\n",
    "        hcf = i\n",
    "print(\"The HCF of {} and {} is {}\".format(x, y, hcf))"
   ]
  },
  {
   "cell_type": "markdown",
   "id": "59386969",
   "metadata": {},
   "source": [
    "### 3.\tWrite a Python Program to Convert Decimal to Binary, Octal and Hexadecimal?"
   ]
  },
  {
   "cell_type": "code",
   "execution_count": 7,
   "id": "64e12461",
   "metadata": {},
   "outputs": [
    {
     "name": "stdout",
     "output_type": "stream",
     "text": [
      "Enter a number: 44\n",
      "44 in Binary:  0b101100\n",
      "44 in Octal:  0o54\n",
      "44 in Hexadecimal:  0x2c\n"
     ]
    }
   ],
   "source": [
    "num = int(input(\"Enter a number: \"))\n",
    "\n",
    "print(num, \"in Binary: \", bin(num))\n",
    "print(num, \"in Octal: \", oct(num))\n",
    "print(num, \"in Hexadecimal: \", hex(num))"
   ]
  },
  {
   "cell_type": "markdown",
   "id": "b871cfeb",
   "metadata": {},
   "source": [
    "### 4.\tWrite a Python Program To Find ASCII value of a character?"
   ]
  },
  {
   "cell_type": "code",
   "execution_count": 9,
   "id": "67055dff",
   "metadata": {},
   "outputs": [
    {
     "name": "stdout",
     "output_type": "stream",
     "text": [
      "Enter a number: t\n",
      "ASCII value of t is 116\n"
     ]
    }
   ],
   "source": [
    "num = input(\"Enter a number: \")\n",
    "\n",
    "## ord gives the ASCII value of a character\n",
    "print(\"ASCII value of {} is {}\".format(num, ord(num)))"
   ]
  },
  {
   "cell_type": "markdown",
   "id": "f0885ec1",
   "metadata": {},
   "source": [
    "### 5.\tWrite a Python Program to Make a Simple Calculator with 4 basic mathematical operations?"
   ]
  },
  {
   "cell_type": "code",
   "execution_count": 15,
   "id": "7dd8e11a",
   "metadata": {},
   "outputs": [
    {
     "name": "stdout",
     "output_type": "stream",
     "text": [
      "Enter the first number: 4\n",
      "Enter the second number: 5\n",
      "Enter + to add: \n",
      "Enter - to subtract: \n",
      "Enter * to multiply: \n",
      "Enter / to divide: *\n",
      "4.0 + 5.0 is 20.0\n"
     ]
    }
   ],
   "source": [
    "num1 = float(input(\"Enter the first number: \"))\n",
    "num2 = float(input(\"Enter the second number: \"))\n",
    "\n",
    "op = input(\"Enter + to add: \\nEnter - to subtract: \\nEnter * to multiply: \\nEnter / to divide: \")\n",
    "\n",
    "add = num1 + num2\n",
    "sub = num1 - num2\n",
    "mult = num1 * num2\n",
    "\n",
    "if op == '+':\n",
    "    print(\"{} + {} is {}\".format(num1, num2, add))\n",
    "elif op == '-':\n",
    "    print(\"{} + {} is {}\".format(num1, num2, sub))\n",
    "elif op == '*':\n",
    "    print(\"{} + {} is {}\".format(num1, num2, mult))\n",
    "elif op == '/':\n",
    "    if ((num1 == 0) or (num2 == 0)):\n",
    "        print(\"Division with zero is not possible\")\n",
    "    else:\n",
    "        div = num1 / num2\n",
    "        print(\"{} + {} is {}\".format(num1, num2, div))\n",
    "else:\n",
    "    print(\"invalid input\")\n"
   ]
  },
  {
   "cell_type": "code",
   "execution_count": null,
   "id": "f5fea25a",
   "metadata": {},
   "outputs": [],
   "source": []
  }
 ],
 "metadata": {
  "kernelspec": {
   "display_name": "Python 3 (ipykernel)",
   "language": "python",
   "name": "python3"
  },
  "language_info": {
   "codemirror_mode": {
    "name": "ipython",
    "version": 3
   },
   "file_extension": ".py",
   "mimetype": "text/x-python",
   "name": "python",
   "nbconvert_exporter": "python",
   "pygments_lexer": "ipython3",
   "version": "3.9.7"
  }
 },
 "nbformat": 4,
 "nbformat_minor": 5
}
