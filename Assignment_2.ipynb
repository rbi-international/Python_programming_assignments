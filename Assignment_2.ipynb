{
 "cells": [
  {
   "cell_type": "markdown",
   "id": "df07ee88",
   "metadata": {},
   "source": [
    "### 1.\tWrite a Python program to convert kilometers to miles?"
   ]
  },
  {
   "cell_type": "code",
   "execution_count": 1,
   "id": "82ad31c0",
   "metadata": {},
   "outputs": [
    {
     "name": "stdout",
     "output_type": "stream",
     "text": [
      "Enter the km for converting to miles: 3.5\n",
      "After conversion 3.5 miles is equal to  2.1315\n"
     ]
    }
   ],
   "source": [
    "### 1 km = 0.609 miles\n",
    "\n",
    "miles_convert = 0.609\n",
    "\n",
    "a = float(input(\"Enter the km for converting to miles: \"))\n",
    "\n",
    "km = a * miles_convert\n",
    "\n",
    "print(\"After conversion\", str(a), \"miles is equal to \", km)"
   ]
  },
  {
   "cell_type": "markdown",
   "id": "bab9d39b",
   "metadata": {},
   "source": [
    "### 2.\tWrite a Python program to convert Celsius to Fahrenheit?"
   ]
  },
  {
   "cell_type": "code",
   "execution_count": 2,
   "id": "ed7cc1d7",
   "metadata": {},
   "outputs": [
    {
     "name": "stdout",
     "output_type": "stream",
     "text": [
      "Enter the temperature in celsius: 34\n",
      "After conversion 34.0 degree celsius is eual to 93.2 degree farenheit\n"
     ]
    }
   ],
   "source": [
    "### 1 Farenheit = (celsius_temp_given * 1.8) + 32\n",
    "\n",
    "celsius = float(input(\"Enter the temperature in celsius: \"))\n",
    "\n",
    "conversion_formula = (celsius * 1.8) + 32\n",
    "\n",
    "print(\"After conversion\", str(celsius), \"degree celsius is eual to\", str(conversion_formula), \"degree farenheit\" )"
   ]
  },
  {
   "cell_type": "markdown",
   "id": "deca6ca2",
   "metadata": {},
   "source": [
    "### 3.\tWrite a Python program to display calendar?"
   ]
  },
  {
   "cell_type": "code",
   "execution_count": 6,
   "id": "911d73fe",
   "metadata": {},
   "outputs": [
    {
     "name": "stdout",
     "output_type": "stream",
     "text": [
      "     March 2022\n",
      "Mo Tu We Th Fr Sa Su\n",
      "    1  2  3  4  5  6\n",
      " 7  8  9 10 11 12 13\n",
      "14 15 16 17 18 19 20\n",
      "21 22 23 24 25 26 27\n",
      "28 29 30 31\n",
      "\n"
     ]
    }
   ],
   "source": [
    "import calendar\n",
    "\n",
    "yy = 2022\n",
    "mm = 3\n",
    "print(calendar.month(yy,mm))"
   ]
  },
  {
   "cell_type": "markdown",
   "id": "a0826a80",
   "metadata": {},
   "source": [
    "### 4.\tWrite a Python program to solve quadratic equation?"
   ]
  },
  {
   "cell_type": "code",
   "execution_count": 10,
   "id": "42cd64d0",
   "metadata": {},
   "outputs": [
    {
     "name": "stdout",
     "output_type": "stream",
     "text": [
      "The two solutions are (-3+0j) and (-2+0j)\n"
     ]
    }
   ],
   "source": [
    "### quadratic equation = ax2 + bx + c = 0 and solution is: \n",
    "### (-b ± (b ** 2 - 4 * a * c) ** 0.5) / (2 * a)\n",
    "\n",
    "import cmath\n",
    "\n",
    "a = 1\n",
    "b = 5\n",
    "c = 6\n",
    "\n",
    "# calculate the discriminant\n",
    "d = (b ** 2) - (4 * a * c)\n",
    "\n",
    "# two solutions\n",
    "\n",
    "s1 = (-b - cmath.sqrt(d)) / (2 * a)\n",
    "\n",
    "s2 = (-b + cmath.sqrt(d)) / (2 * a)\n",
    "\n",
    "print(\"The two solutions are {a} and {b}\".format(a = s1, b = s2))"
   ]
  },
  {
   "cell_type": "markdown",
   "id": "133af13e",
   "metadata": {},
   "source": [
    "### 5.\tWrite a Python program to swap two variables without temp variable?"
   ]
  },
  {
   "cell_type": "code",
   "execution_count": 15,
   "id": "298ef51e",
   "metadata": {},
   "outputs": [
    {
     "name": "stdout",
     "output_type": "stream",
     "text": [
      "Before swapping x = 2, y = 3\n",
      "After swapping x = 3, y = 2\n"
     ]
    }
   ],
   "source": [
    "x = 2\n",
    "y = 3\n",
    "\n",
    "print(\"Before swapping x = {}, y = {}\".format(x,y))\n",
    "\n",
    "x, y = y, x\n",
    "\n",
    "print(\"After swapping x = {}, y = {}\".format(x,y))"
   ]
  },
  {
   "cell_type": "code",
   "execution_count": null,
   "id": "41148c0e",
   "metadata": {},
   "outputs": [],
   "source": []
  }
 ],
 "metadata": {
  "kernelspec": {
   "display_name": "Python 3 (ipykernel)",
   "language": "python",
   "name": "python3"
  },
  "language_info": {
   "codemirror_mode": {
    "name": "ipython",
    "version": 3
   },
   "file_extension": ".py",
   "mimetype": "text/x-python",
   "name": "python",
   "nbconvert_exporter": "python",
   "pygments_lexer": "ipython3",
   "version": "3.9.7"
  }
 },
 "nbformat": 4,
 "nbformat_minor": 5
}
