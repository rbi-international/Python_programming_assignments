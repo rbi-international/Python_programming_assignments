{
 "cells": [
  {
   "cell_type": "markdown",
   "id": "9808495e",
   "metadata": {},
   "source": [
    "### 1.\tWrite a Python program to find words which are greater than given length k?"
   ]
  },
  {
   "cell_type": "code",
   "execution_count": 2,
   "id": "ec17c23b",
   "metadata": {},
   "outputs": [
    {
     "name": "stdout",
     "output_type": "stream",
     "text": [
      "Enter the string: You are a very attractive boy\n",
      "Enter the length of k: 3\n",
      "\n",
      " The original string is ' You are a very attractive boy ' \n",
      "Words greater than k 3 \n",
      "['very', 'attractive']\n"
     ]
    }
   ],
   "source": [
    "def biggerword(k, str):\n",
    "    text = str.split()\n",
    "    wordlist = []\n",
    "    for i in text:\n",
    "        if len(i) > k:\n",
    "            wordlist.append(i)\n",
    "    return wordlist\n",
    "\n",
    "str = input(\"Enter the string: \")\n",
    "k = int(input(\"Enter the length of k: \"))\n",
    "\n",
    "wordlist = biggerword(k, str)\n",
    "\n",
    "print(\"\\n The original string is ' {} ' \".format(str))\n",
    "print(\"Words greater than k {} \".format(k))\n",
    "print(wordlist)"
   ]
  },
  {
   "cell_type": "markdown",
   "id": "5009e0ca",
   "metadata": {},
   "source": [
    "### 2.\tWrite a Python program for removing i-th character from a string?"
   ]
  },
  {
   "cell_type": "code",
   "execution_count": 4,
   "id": "b814c64d",
   "metadata": {},
   "outputs": [
    {
     "name": "stdout",
     "output_type": "stream",
     "text": [
      "Enter a string: Hello\n",
      "Enter the index for removing: 2\n",
      "The string is ' Hello '\n",
      "The new string:  Helo\n"
     ]
    }
   ],
   "source": [
    "def remove(str, i):\n",
    "    \n",
    "    for j in range(len(str)):\n",
    "        if j == i:\n",
    "            str = str.replace(str[i], \"\", 1)\n",
    "    return str\n",
    "str = input(\"Enter a string: \")\n",
    "i = int(input(\"Enter the index for removing: \"))\n",
    "\n",
    "print(\"The string is ' {} '\".format(str))\n",
    "print(\"The new string: \", remove(str,i))"
   ]
  },
  {
   "cell_type": "markdown",
   "id": "99ce7ff0",
   "metadata": {},
   "source": [
    "### 3.\tWrite a Python program to split and join a string?"
   ]
  },
  {
   "cell_type": "code",
   "execution_count": 5,
   "id": "330721db",
   "metadata": {},
   "outputs": [
    {
     "name": "stdout",
     "output_type": "stream",
     "text": [
      "The splitted string is:  ['I', 'love', 'coding']\n",
      "The joined string is:  I-love-coding\n"
     ]
    }
   ],
   "source": [
    "str1 = \"I love coding\"\n",
    "str1 = str1.split(\" \")\n",
    "print(\"The splitted string is: \", str1)\n",
    "\n",
    "str2 = '-'.join(str1)\n",
    "print(\"The joined string is: \", str2)"
   ]
  },
  {
   "cell_type": "markdown",
   "id": "070005c8",
   "metadata": {},
   "source": [
    "### 4.\tWrite a Python to check if a given string is binary string or not?"
   ]
  },
  {
   "cell_type": "code",
   "execution_count": 10,
   "id": "fc5d0f80",
   "metadata": {},
   "outputs": [
    {
     "name": "stdout",
     "output_type": "stream",
     "text": [
      "Enter a string: 10101010107\n",
      "Not binary\n"
     ]
    }
   ],
   "source": [
    "def ifbinary(str):\n",
    "    binary = \"01\"\n",
    "    for i in range(len(str)):\n",
    "        if str[i] not in binary:\n",
    "            print(\"Not binary\")\n",
    "            break\n",
    "    else:\n",
    "        print(\"is binary\")\n",
    "        \n",
    "str = input(\"Enter a string: \")\n",
    "ifbinary(str)\n",
    "    "
   ]
  },
  {
   "cell_type": "markdown",
   "id": "3527d95b",
   "metadata": {},
   "source": [
    "### 5.\tWrite a Python program to find uncommon words from two Strings?"
   ]
  },
  {
   "cell_type": "code",
   "execution_count": 11,
   "id": "c18c6dc8",
   "metadata": {},
   "outputs": [
    {
     "name": "stdout",
     "output_type": "stream",
     "text": [
      "Enter the first string: tooth fairy is real\n",
      "Enter the second string: the great gratspy is awesome\n",
      "The list of uncommon words:   tooth fairy real the great gratspy awesome\n"
     ]
    }
   ],
   "source": [
    "def uncommon_str(a, b):\n",
    "    list1 = a.split(\" \")\n",
    "    list2 = b.split(\" \")\n",
    "    uncom = ''\n",
    "    \n",
    "    for i in list1:\n",
    "        if i not in list2:\n",
    "            uncom = uncom +\" \"+ i\n",
    "    for j in list2:\n",
    "        if j not in list1:\n",
    "            uncom = uncom +\" \"+ j\n",
    "    \n",
    "    return uncom\n",
    "\n",
    "a = input(\"Enter the first string: \").lower()\n",
    "b = input(\"Enter the second string: \").lower()\n",
    "\n",
    "print(\"The list of uncommon words: \", uncommon_str(a,b))\n",
    "    "
   ]
  },
  {
   "cell_type": "markdown",
   "id": "0f909eb2",
   "metadata": {},
   "source": [
    "### 6.\tWrite a Python to find all duplicate characters in string?"
   ]
  },
  {
   "cell_type": "code",
   "execution_count": 13,
   "id": "d7b83924",
   "metadata": {},
   "outputs": [
    {
     "name": "stdout",
     "output_type": "stream",
     "text": [
      "Enter the string: wrath of the titans\n",
      "['a', 't', 'h', ' ']\n"
     ]
    }
   ],
   "source": [
    "str = input(\"Enter the string: \").lower()\n",
    "duplicate_in_string = []\n",
    "\n",
    "for i in str:\n",
    "    if str.count(i) > 1:\n",
    "        if i not in duplicate_in_string:\n",
    "            duplicate_in_string.append(i)\n",
    "            \n",
    "print(duplicate_in_string)"
   ]
  },
  {
   "cell_type": "markdown",
   "id": "71f8a063",
   "metadata": {},
   "source": [
    "### 7.\tWrite a Python Program to check if a string contains any special character?"
   ]
  },
  {
   "cell_type": "code",
   "execution_count": 16,
   "id": "89ace69a",
   "metadata": {},
   "outputs": [
    {
     "name": "stdout",
     "output_type": "stream",
     "text": [
      "Enter the string: i am a !@#$%^\n",
      "The string i am a !@#$%^ has special characters as ['!', '@', '#', '$', '%', '^']: \n"
     ]
    }
   ],
   "source": [
    "import string\n",
    "\n",
    "str_char = string.punctuation\n",
    "sp_char = []\n",
    "\n",
    "str = input(\"Enter the string: \").lower()\n",
    "for i in str:\n",
    "    if i in str_char:\n",
    "        sp_char.append(i)\n",
    "        \n",
    "if len(sp_char) > 0:\n",
    "    print(\"The string {} has special characters as {}: \".format(str, sp_char))\n"
   ]
  },
  {
   "cell_type": "code",
   "execution_count": null,
   "id": "8166ec18",
   "metadata": {},
   "outputs": [],
   "source": []
  }
 ],
 "metadata": {
  "kernelspec": {
   "display_name": "Python 3 (ipykernel)",
   "language": "python",
   "name": "python3"
  },
  "language_info": {
   "codemirror_mode": {
    "name": "ipython",
    "version": 3
   },
   "file_extension": ".py",
   "mimetype": "text/x-python",
   "name": "python",
   "nbconvert_exporter": "python",
   "pygments_lexer": "ipython3",
   "version": "3.9.7"
  }
 },
 "nbformat": 4,
 "nbformat_minor": 5
}
