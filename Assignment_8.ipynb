{
 "cells": [
  {
   "cell_type": "markdown",
   "id": "afec742e",
   "metadata": {},
   "source": [
    "### 1.\tWrite a Python Program to Add Two Matrices?"
   ]
  },
  {
   "cell_type": "code",
   "execution_count": 1,
   "id": "2aa1a722",
   "metadata": {},
   "outputs": [
    {
     "name": "stdout",
     "output_type": "stream",
     "text": [
      "The sum of two matrix \n",
      "\n",
      "[[1 2 3]\n",
      " [4 5 6]\n",
      " [7 8 9]]  and \n",
      "\n",
      "[[10 11 12]\n",
      " [13 14 15]\n",
      " [16 17 18]]  is \n",
      "\n",
      "[[11 13 15]\n",
      " [17 19 21]\n",
      " [23 25 27]]\n"
     ]
    }
   ],
   "source": [
    "import numpy as np\n",
    "\n",
    "mat1 = np.array([[1,2,3],\n",
    "       [4,5,6],\n",
    "       [7,8,9]])\n",
    "\n",
    "mat2 = np.array([[10,11,12],\n",
    "               [13,14,15],\n",
    "               [16,17,18]])\n",
    "\n",
    "add_mat = np.add(mat1, mat2)\n",
    "\n",
    "print(\"The sum of two matrix \\n\\n{}  and \\n\\n{}  is \\n\\n{}\".format(mat1, mat2, add_mat))"
   ]
  },
  {
   "cell_type": "markdown",
   "id": "5b32485c",
   "metadata": {},
   "source": [
    "### 2.\tWrite a Python Program to Multiply Two Matrices?"
   ]
  },
  {
   "cell_type": "code",
   "execution_count": 2,
   "id": "ea4ba571",
   "metadata": {},
   "outputs": [
    {
     "name": "stdout",
     "output_type": "stream",
     "text": [
      "The sum of two matrix \n",
      "\n",
      "[[1 2 3]\n",
      " [4 5 6]\n",
      " [7 8 9]]  and \n",
      "\n",
      "[[10 11 12]\n",
      " [13 14 15]\n",
      " [16 17 18]]  is \n",
      "\n",
      "[[ 10  22  36]\n",
      " [ 52  70  90]\n",
      " [112 136 162]]\n"
     ]
    }
   ],
   "source": [
    "import numpy as np\n",
    "\n",
    "mat1 = np.array([[1,2,3],\n",
    "       [4,5,6],\n",
    "       [7,8,9]])\n",
    "\n",
    "mat2 = np.array([[10,11,12],\n",
    "               [13,14,15],\n",
    "               [16,17,18]])\n",
    "\n",
    "add_mat = np.multiply(mat1, mat2)\n",
    "\n",
    "print(\"The sum of two matrix \\n\\n{}  and \\n\\n{}  is \\n\\n{}\".format(mat1, mat2, add_mat))"
   ]
  },
  {
   "cell_type": "markdown",
   "id": "dac21409",
   "metadata": {},
   "source": [
    "### 3.\tWrite a Python Program to Transpose a Matrix?"
   ]
  },
  {
   "cell_type": "code",
   "execution_count": 5,
   "id": "dbed7184",
   "metadata": {},
   "outputs": [
    {
     "data": {
      "text/plain": [
       "array([[1, 2, 3],\n",
       "       [4, 5, 6],\n",
       "       [7, 8, 9]])"
      ]
     },
     "execution_count": 5,
     "metadata": {},
     "output_type": "execute_result"
    }
   ],
   "source": [
    "import numpy as np\n",
    "\n",
    "mat1 = np.array([[1,2,3],\n",
    "       [4,5,6],\n",
    "       [7,8,9]])\n",
    "mat1"
   ]
  },
  {
   "cell_type": "code",
   "execution_count": 4,
   "id": "2762b1ff",
   "metadata": {},
   "outputs": [
    {
     "data": {
      "text/plain": [
       "array([[1, 4, 7],\n",
       "       [2, 5, 8],\n",
       "       [3, 6, 9]])"
      ]
     },
     "execution_count": 4,
     "metadata": {},
     "output_type": "execute_result"
    }
   ],
   "source": [
    "mat1.transpose()"
   ]
  },
  {
   "cell_type": "markdown",
   "id": "93fb21dd",
   "metadata": {},
   "source": [
    "### 4.\tWrite a Python Program to Sort Words in Alphabetic Order?"
   ]
  },
  {
   "cell_type": "code",
   "execution_count": 6,
   "id": "aa96596b",
   "metadata": {},
   "outputs": [
    {
     "name": "stdout",
     "output_type": "stream",
     "text": [
      "Enter some words: hello buffalo chalo\n",
      "buffalo\n",
      "chalo\n",
      "hello\n"
     ]
    }
   ],
   "source": [
    "st_ring = input(\"Enter some words: \")\n",
    "words = st_ring.split()\n",
    "words.sort()\n",
    "for word in words:\n",
    "    print(word)"
   ]
  },
  {
   "cell_type": "markdown",
   "id": "fa074fcc",
   "metadata": {},
   "source": [
    "### 5.\tWrite a Python Program to Remove Punctuation From a String?"
   ]
  },
  {
   "cell_type": "code",
   "execution_count": 8,
   "id": "7e0a714c",
   "metadata": {},
   "outputs": [
    {
     "name": "stdout",
     "output_type": "stream",
     "text": [
      "Enter a string with punctuation: i am a messy *^&))!@#~!!!!~~~~~, string\n",
      "i am a messy  string\n"
     ]
    }
   ],
   "source": [
    "punctuations = '''!()-[]{};:'\"\\,<>./?@#$%^&*_~'''\n",
    "\n",
    "inp_ut = input(\"Enter a string with punctuation: \")\n",
    "\n",
    "remove_punc = \"\"\n",
    "\n",
    "for i in inp_ut:\n",
    "    if i not in punctuations:\n",
    "        remove_punc = remove_punc + i\n",
    "print(remove_punc)"
   ]
  },
  {
   "cell_type": "code",
   "execution_count": null,
   "id": "2824175b",
   "metadata": {},
   "outputs": [],
   "source": []
  }
 ],
 "metadata": {
  "kernelspec": {
   "display_name": "Python 3 (ipykernel)",
   "language": "python",
   "name": "python3"
  },
  "language_info": {
   "codemirror_mode": {
    "name": "ipython",
    "version": 3
   },
   "file_extension": ".py",
   "mimetype": "text/x-python",
   "name": "python",
   "nbconvert_exporter": "python",
   "pygments_lexer": "ipython3",
   "version": "3.9.7"
  }
 },
 "nbformat": 4,
 "nbformat_minor": 5
}
