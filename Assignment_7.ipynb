{
 "cells": [
  {
   "cell_type": "markdown",
   "id": "62792c6f",
   "metadata": {},
   "source": [
    "### 1.\tWrite a Python Program to find sum of array?"
   ]
  },
  {
   "cell_type": "code",
   "execution_count": 5,
   "id": "3995154c",
   "metadata": {},
   "outputs": [
    {
     "name": "stdout",
     "output_type": "stream",
     "text": [
      "The sum of the array is  45\n"
     ]
    }
   ],
   "source": [
    "arr = [1,2,3,4,5,6,7,8,9]\n",
    "sum = 0\n",
    "for i in range(0, len(arr)):\n",
    "    sum = sum + arr[i]\n",
    "print(\"The sum of the array is \", sum)    "
   ]
  },
  {
   "cell_type": "markdown",
   "id": "ff70d510",
   "metadata": {},
   "source": [
    "### 2.\tWrite a Python Program to find largest element in an array?"
   ]
  },
  {
   "cell_type": "code",
   "execution_count": 11,
   "id": "d7348289",
   "metadata": {},
   "outputs": [
    {
     "name": "stdout",
     "output_type": "stream",
     "text": [
      "8\n",
      "The largest element in [1, 2, 3, 4, 8, 5] is 8\n"
     ]
    }
   ],
   "source": [
    "num = 0\n",
    "arr = [1,2,3,4,8,5]\n",
    "for i in range(0, len(arr)):\n",
    "    if num > arr[i]:\n",
    "        print(num)\n",
    "    else:\n",
    "        num = arr[i]\n",
    "print(\"The largest element in {} is {}\".format(arr, num))"
   ]
  },
  {
   "cell_type": "markdown",
   "id": "4e4667c0",
   "metadata": {},
   "source": [
    "### 3.\tWrite a Python Program for array rotation?"
   ]
  },
  {
   "cell_type": "code",
   "execution_count": 15,
   "id": "4ddd11c1",
   "metadata": {},
   "outputs": [
    {
     "name": "stdout",
     "output_type": "stream",
     "text": [
      "5\n",
      "8\n",
      "4\n",
      "3\n",
      "2\n"
     ]
    }
   ],
   "source": [
    "arr = [1,2,3,4,8,5]\n",
    "l = len(arr) - 1\n",
    "for i in range(l, 0, -1):\n",
    "    print(arr[i])"
   ]
  },
  {
   "cell_type": "markdown",
   "id": "82eaf856",
   "metadata": {},
   "source": [
    "### 4.\tWrite a Python Program to Split the array and add the first part to the end?"
   ]
  },
  {
   "cell_type": "code",
   "execution_count": 26,
   "id": "05ecafe3",
   "metadata": {},
   "outputs": [
    {
     "name": "stdout",
     "output_type": "stream",
     "text": [
      "How many elements u want to enter: 5\n",
      "1\n",
      "2\n",
      "3\n",
      "4\n",
      "5\n",
      "The list  [1, 2, 3, 4, 5]\n",
      "Enter the number of elements to split: 2\n",
      "The split list is:  [1, 2]\n",
      "The list after split and add is :  [3, 4, 5, 1, 2]\n"
     ]
    }
   ],
   "source": [
    "list1 = int(input(\"How many elements u want to enter: \"))\n",
    "arr = []\n",
    "rarr = []\n",
    "for i in range(list1):\n",
    "    arr.append(int(input()))\n",
    "print(\"The list \", arr)\n",
    "\n",
    "thor = int(input(\"Enter the number of elements to split: \"))\n",
    "if thor > list1:\n",
    "    print(\"cannot split as the elements to split is larger than the list itself\")\n",
    "else:\n",
    "    print(\"The split list is: \", arr[:thor])\n",
    "    rarr[:] = arr[thor:list1] + arr[:thor]\n",
    "    print(\"The list after split and add is : \", rarr)"
   ]
  },
  {
   "cell_type": "markdown",
   "id": "7c69e47b",
   "metadata": {},
   "source": [
    "### 5.\tWrite a Python Program to check if given array is Monotonic?"
   ]
  },
  {
   "cell_type": "code",
   "execution_count": 27,
   "id": "d2da5237",
   "metadata": {},
   "outputs": [
    {
     "name": "stdout",
     "output_type": "stream",
     "text": [
      "Enter the lenth of your list : 5\n",
      "1\n",
      "2\n",
      "3\n",
      "4\n",
      "5\n",
      "The List is  [1, 2, 3, 4, 5]\n",
      "Monotonic\n"
     ]
    }
   ],
   "source": [
    "l = int(input(\"Enter the lenth of your list : \"))\n",
    "arr = []\n",
    "\n",
    "for i in range(l):\n",
    "    arr.append(int(input()))\n",
    "print(\"The List is \",arr)\n",
    "\n",
    "if all((arr[i] <= arr[i+1] for i in range(l-1)) or (arr[i] >= lst[i+1] for i in range(l-1))):\n",
    "    print(\"Monotonic\")\n",
    "else:\n",
    "    print(\"Not Monotonic\")"
   ]
  },
  {
   "cell_type": "code",
   "execution_count": null,
   "id": "87182224",
   "metadata": {},
   "outputs": [],
   "source": []
  }
 ],
 "metadata": {
  "kernelspec": {
   "display_name": "Python 3 (ipykernel)",
   "language": "python",
   "name": "python3"
  },
  "language_info": {
   "codemirror_mode": {
    "name": "ipython",
    "version": 3
   },
   "file_extension": ".py",
   "mimetype": "text/x-python",
   "name": "python",
   "nbconvert_exporter": "python",
   "pygments_lexer": "ipython3",
   "version": "3.9.7"
  }
 },
 "nbformat": 4,
 "nbformat_minor": 5
}
